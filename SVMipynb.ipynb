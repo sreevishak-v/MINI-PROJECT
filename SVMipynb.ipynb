{
  "nbformat": 4,
  "nbformat_minor": 0,
  "metadata": {
    "colab": {
      "provenance": []
    },
    "kernelspec": {
      "name": "python3",
      "display_name": "Python 3"
    },
    "language_info": {
      "name": "python"
    }
  },
  "cells": [
    {
      "cell_type": "code",
      "execution_count": null,
      "metadata": {
        "id": "JlhHPEwpSxbZ"
      },
      "outputs": [],
      "source": [
        "import numpy as np\n",
        "import pandas as pd\n",
        "from sklearn.feature_extraction.text import TfidfVectorizer, CountVectorizer\n",
        "from sklearn.model_selection import train_test_split\n",
        "from sklearn.svm import SVC\n",
        "from sklearn.metrics import accuracy_score, classification_report, confusion_matrix\n",
        "from gensim.models import Word2Vec"
      ]
    },
    {
      "cell_type": "code",
      "source": [
        "# Load the dataset\n",
        "df = pd.read_csv('/content/augmented_dataset1.csv')\n",
        "df = df[['Text data', 'Label']]\n",
        "df.head()"
      ],
      "metadata": {
        "colab": {
          "base_uri": "https://localhost:8080/",
          "height": 206
        },
        "id": "eyawEeG0Xsda",
        "outputId": "4817237b-b0a6-49d9-c6e7-0a40c11f92c4"
      },
      "execution_count": null,
      "outputs": [
        {
          "output_type": "execute_result",
          "data": {
            "text/plain": [
              "                                           Text data  Label\n",
              "0  waiting for my mind to have breakdown once the...      1\n",
              "1  for my new anymore little bit not of just and ...      1\n",
              "2  new year feeling there else depressed last eve...      1\n",
              "3  for my to have the new feeling know about anyo...      1\n",
              "4  to the new year in start and into great myself...      1"
            ],
            "text/html": [
              "\n",
              "  <div id=\"df-3817e54e-f2e4-42a9-8f0f-2fdf9510ab95\" class=\"colab-df-container\">\n",
              "    <div>\n",
              "<style scoped>\n",
              "    .dataframe tbody tr th:only-of-type {\n",
              "        vertical-align: middle;\n",
              "    }\n",
              "\n",
              "    .dataframe tbody tr th {\n",
              "        vertical-align: top;\n",
              "    }\n",
              "\n",
              "    .dataframe thead th {\n",
              "        text-align: right;\n",
              "    }\n",
              "</style>\n",
              "<table border=\"1\" class=\"dataframe\">\n",
              "  <thead>\n",
              "    <tr style=\"text-align: right;\">\n",
              "      <th></th>\n",
              "      <th>Text data</th>\n",
              "      <th>Label</th>\n",
              "    </tr>\n",
              "  </thead>\n",
              "  <tbody>\n",
              "    <tr>\n",
              "      <th>0</th>\n",
              "      <td>waiting for my mind to have breakdown once the...</td>\n",
              "      <td>1</td>\n",
              "    </tr>\n",
              "    <tr>\n",
              "      <th>1</th>\n",
              "      <td>for my new anymore little bit not of just and ...</td>\n",
              "      <td>1</td>\n",
              "    </tr>\n",
              "    <tr>\n",
              "      <th>2</th>\n",
              "      <td>new year feeling there else depressed last eve...</td>\n",
              "      <td>1</td>\n",
              "    </tr>\n",
              "    <tr>\n",
              "      <th>3</th>\n",
              "      <td>for my to have the new feeling know about anyo...</td>\n",
              "      <td>1</td>\n",
              "    </tr>\n",
              "    <tr>\n",
              "      <th>4</th>\n",
              "      <td>to the new year in start and into great myself...</td>\n",
              "      <td>1</td>\n",
              "    </tr>\n",
              "  </tbody>\n",
              "</table>\n",
              "</div>\n",
              "    <div class=\"colab-df-buttons\">\n",
              "\n",
              "  <div class=\"colab-df-container\">\n",
              "    <button class=\"colab-df-convert\" onclick=\"convertToInteractive('df-3817e54e-f2e4-42a9-8f0f-2fdf9510ab95')\"\n",
              "            title=\"Convert this dataframe to an interactive table.\"\n",
              "            style=\"display:none;\">\n",
              "\n",
              "  <svg xmlns=\"http://www.w3.org/2000/svg\" height=\"24px\" viewBox=\"0 -960 960 960\">\n",
              "    <path d=\"M120-120v-720h720v720H120Zm60-500h600v-160H180v160Zm220 220h160v-160H400v160Zm0 220h160v-160H400v160ZM180-400h160v-160H180v160Zm440 0h160v-160H620v160ZM180-180h160v-160H180v160Zm440 0h160v-160H620v160Z\"/>\n",
              "  </svg>\n",
              "    </button>\n",
              "\n",
              "  <style>\n",
              "    .colab-df-container {\n",
              "      display:flex;\n",
              "      gap: 12px;\n",
              "    }\n",
              "\n",
              "    .colab-df-convert {\n",
              "      background-color: #E8F0FE;\n",
              "      border: none;\n",
              "      border-radius: 50%;\n",
              "      cursor: pointer;\n",
              "      display: none;\n",
              "      fill: #1967D2;\n",
              "      height: 32px;\n",
              "      padding: 0 0 0 0;\n",
              "      width: 32px;\n",
              "    }\n",
              "\n",
              "    .colab-df-convert:hover {\n",
              "      background-color: #E2EBFA;\n",
              "      box-shadow: 0px 1px 2px rgba(60, 64, 67, 0.3), 0px 1px 3px 1px rgba(60, 64, 67, 0.15);\n",
              "      fill: #174EA6;\n",
              "    }\n",
              "\n",
              "    .colab-df-buttons div {\n",
              "      margin-bottom: 4px;\n",
              "    }\n",
              "\n",
              "    [theme=dark] .colab-df-convert {\n",
              "      background-color: #3B4455;\n",
              "      fill: #D2E3FC;\n",
              "    }\n",
              "\n",
              "    [theme=dark] .colab-df-convert:hover {\n",
              "      background-color: #434B5C;\n",
              "      box-shadow: 0px 1px 3px 1px rgba(0, 0, 0, 0.15);\n",
              "      filter: drop-shadow(0px 1px 2px rgba(0, 0, 0, 0.3));\n",
              "      fill: #FFFFFF;\n",
              "    }\n",
              "  </style>\n",
              "\n",
              "    <script>\n",
              "      const buttonEl =\n",
              "        document.querySelector('#df-3817e54e-f2e4-42a9-8f0f-2fdf9510ab95 button.colab-df-convert');\n",
              "      buttonEl.style.display =\n",
              "        google.colab.kernel.accessAllowed ? 'block' : 'none';\n",
              "\n",
              "      async function convertToInteractive(key) {\n",
              "        const element = document.querySelector('#df-3817e54e-f2e4-42a9-8f0f-2fdf9510ab95');\n",
              "        const dataTable =\n",
              "          await google.colab.kernel.invokeFunction('convertToInteractive',\n",
              "                                                    [key], {});\n",
              "        if (!dataTable) return;\n",
              "\n",
              "        const docLinkHtml = 'Like what you see? Visit the ' +\n",
              "          '<a target=\"_blank\" href=https://colab.research.google.com/notebooks/data_table.ipynb>data table notebook</a>'\n",
              "          + ' to learn more about interactive tables.';\n",
              "        element.innerHTML = '';\n",
              "        dataTable['output_type'] = 'display_data';\n",
              "        await google.colab.output.renderOutput(dataTable, element);\n",
              "        const docLink = document.createElement('div');\n",
              "        docLink.innerHTML = docLinkHtml;\n",
              "        element.appendChild(docLink);\n",
              "      }\n",
              "    </script>\n",
              "  </div>\n",
              "\n",
              "\n",
              "<div id=\"df-e845c713-30ec-4d56-b13d-94fd93828fec\">\n",
              "  <button class=\"colab-df-quickchart\" onclick=\"quickchart('df-e845c713-30ec-4d56-b13d-94fd93828fec')\"\n",
              "            title=\"Suggest charts\"\n",
              "            style=\"display:none;\">\n",
              "\n",
              "<svg xmlns=\"http://www.w3.org/2000/svg\" height=\"24px\"viewBox=\"0 0 24 24\"\n",
              "     width=\"24px\">\n",
              "    <g>\n",
              "        <path d=\"M19 3H5c-1.1 0-2 .9-2 2v14c0 1.1.9 2 2 2h14c1.1 0 2-.9 2-2V5c0-1.1-.9-2-2-2zM9 17H7v-7h2v7zm4 0h-2V7h2v10zm4 0h-2v-4h2v4z\"/>\n",
              "    </g>\n",
              "</svg>\n",
              "  </button>\n",
              "\n",
              "<style>\n",
              "  .colab-df-quickchart {\n",
              "      --bg-color: #E8F0FE;\n",
              "      --fill-color: #1967D2;\n",
              "      --hover-bg-color: #E2EBFA;\n",
              "      --hover-fill-color: #174EA6;\n",
              "      --disabled-fill-color: #AAA;\n",
              "      --disabled-bg-color: #DDD;\n",
              "  }\n",
              "\n",
              "  [theme=dark] .colab-df-quickchart {\n",
              "      --bg-color: #3B4455;\n",
              "      --fill-color: #D2E3FC;\n",
              "      --hover-bg-color: #434B5C;\n",
              "      --hover-fill-color: #FFFFFF;\n",
              "      --disabled-bg-color: #3B4455;\n",
              "      --disabled-fill-color: #666;\n",
              "  }\n",
              "\n",
              "  .colab-df-quickchart {\n",
              "    background-color: var(--bg-color);\n",
              "    border: none;\n",
              "    border-radius: 50%;\n",
              "    cursor: pointer;\n",
              "    display: none;\n",
              "    fill: var(--fill-color);\n",
              "    height: 32px;\n",
              "    padding: 0;\n",
              "    width: 32px;\n",
              "  }\n",
              "\n",
              "  .colab-df-quickchart:hover {\n",
              "    background-color: var(--hover-bg-color);\n",
              "    box-shadow: 0 1px 2px rgba(60, 64, 67, 0.3), 0 1px 3px 1px rgba(60, 64, 67, 0.15);\n",
              "    fill: var(--button-hover-fill-color);\n",
              "  }\n",
              "\n",
              "  .colab-df-quickchart-complete:disabled,\n",
              "  .colab-df-quickchart-complete:disabled:hover {\n",
              "    background-color: var(--disabled-bg-color);\n",
              "    fill: var(--disabled-fill-color);\n",
              "    box-shadow: none;\n",
              "  }\n",
              "\n",
              "  .colab-df-spinner {\n",
              "    border: 2px solid var(--fill-color);\n",
              "    border-color: transparent;\n",
              "    border-bottom-color: var(--fill-color);\n",
              "    animation:\n",
              "      spin 1s steps(1) infinite;\n",
              "  }\n",
              "\n",
              "  @keyframes spin {\n",
              "    0% {\n",
              "      border-color: transparent;\n",
              "      border-bottom-color: var(--fill-color);\n",
              "      border-left-color: var(--fill-color);\n",
              "    }\n",
              "    20% {\n",
              "      border-color: transparent;\n",
              "      border-left-color: var(--fill-color);\n",
              "      border-top-color: var(--fill-color);\n",
              "    }\n",
              "    30% {\n",
              "      border-color: transparent;\n",
              "      border-left-color: var(--fill-color);\n",
              "      border-top-color: var(--fill-color);\n",
              "      border-right-color: var(--fill-color);\n",
              "    }\n",
              "    40% {\n",
              "      border-color: transparent;\n",
              "      border-right-color: var(--fill-color);\n",
              "      border-top-color: var(--fill-color);\n",
              "    }\n",
              "    60% {\n",
              "      border-color: transparent;\n",
              "      border-right-color: var(--fill-color);\n",
              "    }\n",
              "    80% {\n",
              "      border-color: transparent;\n",
              "      border-right-color: var(--fill-color);\n",
              "      border-bottom-color: var(--fill-color);\n",
              "    }\n",
              "    90% {\n",
              "      border-color: transparent;\n",
              "      border-bottom-color: var(--fill-color);\n",
              "    }\n",
              "  }\n",
              "</style>\n",
              "\n",
              "  <script>\n",
              "    async function quickchart(key) {\n",
              "      const quickchartButtonEl =\n",
              "        document.querySelector('#' + key + ' button');\n",
              "      quickchartButtonEl.disabled = true;  // To prevent multiple clicks.\n",
              "      quickchartButtonEl.classList.add('colab-df-spinner');\n",
              "      try {\n",
              "        const charts = await google.colab.kernel.invokeFunction(\n",
              "            'suggestCharts', [key], {});\n",
              "      } catch (error) {\n",
              "        console.error('Error during call to suggestCharts:', error);\n",
              "      }\n",
              "      quickchartButtonEl.classList.remove('colab-df-spinner');\n",
              "      quickchartButtonEl.classList.add('colab-df-quickchart-complete');\n",
              "    }\n",
              "    (() => {\n",
              "      let quickchartButtonEl =\n",
              "        document.querySelector('#df-e845c713-30ec-4d56-b13d-94fd93828fec button');\n",
              "      quickchartButtonEl.style.display =\n",
              "        google.colab.kernel.accessAllowed ? 'block' : 'none';\n",
              "    })();\n",
              "  </script>\n",
              "</div>\n",
              "\n",
              "    </div>\n",
              "  </div>\n"
            ],
            "application/vnd.google.colaboratory.intrinsic+json": {
              "type": "dataframe",
              "variable_name": "df",
              "summary": "{\n  \"name\": \"df\",\n  \"rows\": 18057,\n  \"fields\": [\n    {\n      \"column\": \"Text data\",\n      \"properties\": {\n        \"dtype\": \"category\",\n        \"num_unique_values\": 5456,\n        \"samples\": [\n          \"buzzed pricey dabbled photo crevice displayed neighbour massage fuelled jon contracted pleading gynaecologist russian heavenly sanctuary dj izack crotch insistent buzz insisted stalker dale sam trained lesbians inseparable beth provocative mesh reinforced bled retaliate cellar mike andrew cooler bearably jessica befriended buildings partly legged pebbles esl appreciates attain russia expand yard snippets notebook angst socialgeneral rescue kindly basketball artistic incidents poses subsided sketchbooks ordeal crossed ecstasy penis attended playground satisfy minimal hindsight editing bottles collection emo photography salary professor rocks tinder teaching transferred triggering slut glanced pulled lyrics letter excelled toronto precious artistically recess straw crack session upsetting albeit rope std childish excites fashion block strict refused pop rumours volunteer photographer flourishing update proceeded closet poetry utter wrenching outcast uncertainty design graphic scraping upstairs hidden hung developing consistently stated dates carpet warm overdosing virginity phase behaviour water roll binge lasts wore heavily communication medicine portfolio pants lift roommates lab canada aspect kissing quietly kindness agreed tiny comfortable ordinary closure overly establishing habit cleared intentions discovered tour example honour boat result span plummeted speaking arrived rave drives attempts lasted continued meeting department education blurry begged gifts factor knowledge upon graduate teachers cat elementary children teacher lesson bullied onto fully doubting weren road kiss scene basis bullying cheated teenager teen minor involved opened deepest romantic movies increased difficult marks skipping swore chair photos ugly wedding disorder showered coke downtown tries destructive gather activity skip calm search coworkers blow amount slept brushed cries free early wine complete motivated pills nagging numerous minute dick attend men attention fast handle dangerous distributed wreck finish idiot bet occasionally woman clean shameful forgive words along truth walked pointed popular acne skinny attempted pushing hand attempt shy front cloud suffer friendship smoke girls met growing weed mainly hanging killed played aren exact included partner non boys bought word seemed selfish worry cool purpose whether middle wearing daily beautiful evening pass offer blur falling laughed clearly describe happens interest check calling show frequent solid anxious continuing exercising fit final haven forced text hang drugs meet shut bar sleeping chat easily suck borderline hasn yes laugh fighting second sucked birthday realize none ending bathroom terrified sex letting advice medication effort degree career brain looked throw course choice trouble mentally warning ago driving outside sexual realized several although art relationships helped push couple kick numb inside guy moving answer split lets drop group thrown dating throughout girl dated style parties trapped taking soon many th excited human grade sober high hurt come doomed brought nor knew fall physically believe doesn age didn began took man spotted rest floor apartment parent lived matter okay lots such mad saying short program engineering during company bring grew passing liked reached food instead forget managed apart quickly cut attached episode says break call phone forward thank regular usually drunk drinking place putting went quite stayed came remember crazy won conversation too speak idea used parents working getting fun their ones loved wanted tv motivation seem huge top house kids world read let truly finding write writing use given guys turns sitting partying gone eventually threw drive gave thoughts times stuff home move often allowed wouldn drink half today sometime wanting alcohol bottle awful pull dad well stand couldn each sad why stop bottom marriage finally an boyfriend yet ve officially himself drastically may hands situation anxiety help kind became makes somehow language occasions those done order moment nothing over constantly who angry apparently found extremely having cry party everyone body starting completely take really us much pretty other own trying offered stay sure work off car afford next felt almost which sleep day turned together spent rent pay classes through first our another able his lost away gets mom stopped morning every due twice different two put relationship abusive long see therapy hours despite older teenage followed how as close very her she while living make hard say around when going dark than maybe interesting worse probably end born job point what night right room spend tell are these school alone mine myself did good by months ever thing think had heart could music listening after great bad everything you would they am has them more someone scared always head experience already find can people since made also serious again started things told never depression luckily reason some doing talking old ill life real one no been anything do so learned english from story your on be will want all lot asking with then happy even office into get im years normal way it just month where until wasn crying down start not something or time days few in back little but anyone about don anymore there isn feeling year new once mind reported options replies deleting option nowhere college suicide posting everytime asked literally were risk upset ended before week got we him said nobody out at person friends trust still he friend best me post thought talk only ive here because like is this dont if feel and now was up broke of tried last being go that else know the have to my for\",\n          \"effected lives how are by you depression your in anxietydepression basis daily suicidal removed thoughts having on\",\n          \"for my mind to have the new feeling there anymore don about else little that ll go back being in time or not any of crying entire was just it way and feel normal get even with this shit lot is all like be from so do anything been only no one real life me friend some reason never family made since can friends at out social them has am everything bad wish could had think thing ever by good myself room mum around make alive as fuck away almost off sure staying losing related starting hate cry panic attack angry who watching games anxiety ve why videos stuff least give understands world kids top huge playing used complicated looking exist barely age come keeping kid gotten meant taking likes college whatever fear worry whenever isolate syndrome teen picture checking relatives horror hormones homeschooled asperger undo\"\n        ],\n        \"semantic_type\": \"\",\n        \"description\": \"\"\n      }\n    },\n    {\n      \"column\": \"Label\",\n      \"properties\": {\n        \"dtype\": \"number\",\n        \"std\": 0,\n        \"min\": 0,\n        \"max\": 2,\n        \"num_unique_values\": 3,\n        \"samples\": [\n          1,\n          0,\n          2\n        ],\n        \"semantic_type\": \"\",\n        \"description\": \"\"\n      }\n    }\n  ]\n}"
            }
          },
          "metadata": {},
          "execution_count": 28
        }
      ]
    },
    {
      "cell_type": "code",
      "source": [
        "# Split the data into training and testing sets\n",
        "X_train, X_test, y_train, y_test = train_test_split(df['Text data'], df['Label'], test_size=0.2, random_state=42)"
      ],
      "metadata": {
        "id": "a1uon6YOmeUc"
      },
      "execution_count": null,
      "outputs": []
    },
    {
      "cell_type": "code",
      "source": [
        "# TF-IDF Vectorization\n",
        "tfidf_vectorizer = TfidfVectorizer()\n",
        "X_train_tfidf = tfidf_vectorizer.fit_transform(X_train)\n",
        "X_test_tfidf = tfidf_vectorizer.transform(X_test)"
      ],
      "metadata": {
        "id": "uHJ9zuQ9Nb4f"
      },
      "execution_count": null,
      "outputs": []
    },
    {
      "cell_type": "code",
      "source": [
        "# Count Vectorization\n",
        "count_vectorizer = CountVectorizer()\n",
        "X_train_count = count_vectorizer.fit_transform(X_train)\n",
        "X_test_count = count_vectorizer.transform(X_test)"
      ],
      "metadata": {
        "id": "pgxHKoAqmliz"
      },
      "execution_count": null,
      "outputs": []
    },
    {
      "cell_type": "code",
      "source": [
        "# Load pre-trained GloVe embeddings\n",
        "glove_file = '/content/drive/MyDrive/glove.6B.100d.txt'\n",
        "word_vectors = {}\n",
        "with open(glove_file, 'r', encoding='utf-8') as f:\n",
        "    for line in f:\n",
        "        values = line.split()\n",
        "        word = values[0]\n",
        "        vector = np.array(values[1:], dtype='float32')\n",
        "        word_vectors[word] = vector"
      ],
      "metadata": {
        "id": "v-_vu3QFmpCt"
      },
      "execution_count": 33,
      "outputs": []
    },
    {
      "cell_type": "code",
      "source": [
        "def map_word_to_glove(word):\n",
        "    return word_vectors.get(word, np.zeros(100))"
      ],
      "metadata": {
        "id": "L9sP6ISLmt8c"
      },
      "execution_count": 34,
      "outputs": []
    },
    {
      "cell_type": "code",
      "source": [
        "# Create document embeddings\n",
        "def create_document_embedding(doc):\n",
        "    words = doc.split()\n",
        "    word_embeddings = [map_word_to_glove(word) for word in words]\n",
        "    doc_embedding = np.mean(word_embeddings, axis=0)  # Average word embeddings\n",
        "    return doc_embedding"
      ],
      "metadata": {
        "id": "nf25sratOMnf"
      },
      "execution_count": 35,
      "outputs": []
    },
    {
      "cell_type": "code",
      "source": [
        "X_train_glove = np.array([create_document_embedding(doc) for doc in X_train])\n",
        "X_test_glove = np.array([create_document_embedding(doc) for doc in X_test])"
      ],
      "metadata": {
        "id": "xFnSsPJhz4Yd"
      },
      "execution_count": 36,
      "outputs": []
    },
    {
      "cell_type": "code",
      "source": [
        "import spacy\n",
        "import string\n",
        "from sklearn.model_selection import train_test_split\n",
        "from sklearn.pipeline import Pipeline\n",
        "from sklearn.linear_model import LogisticRegression\n",
        "from sklearn.metrics import accuracy_score, precision_score, recall_score, f1_score, classification_report\n",
        "import gensim.downloader as api\n",
        "nlp = spacy.load(\"en_core_web_sm\")\n",
        "stop_words = nlp.Defaults.stop_words\n",
        "punctuations = string.punctuation\n"
      ],
      "metadata": {
        "id": "xOEveGtT1hV7"
      },
      "execution_count": 43,
      "outputs": []
    },
    {
      "cell_type": "code",
      "source": [
        "wv = api.load('word2vec-google-news-300')"
      ],
      "metadata": {
        "colab": {
          "base_uri": "https://localhost:8080/"
        },
        "id": "BtVQq0xo2AVG",
        "outputId": "e8076cb4-3ffb-42df-d0a1-029be937ed95"
      },
      "execution_count": 44,
      "outputs": [
        {
          "output_type": "stream",
          "name": "stdout",
          "text": [
            "[==================================================] 100.0% 1662.8/1662.8MB downloaded\n"
          ]
        }
      ]
    },
    {
      "cell_type": "code",
      "source": [
        "# Function to tokenize and preprocess text\n",
        "def spacy_tokenizer(sentence):\n",
        "    # Creating our token object, which is used to create documents with linguistic annotations.\n",
        "    doc = nlp(sentence)\n",
        "\n",
        "    # Lemmatizing each token and converting each token into lowercase\n",
        "    mytokens = [word.lemma_.lower().strip() for word in doc]\n",
        "\n",
        "    # Removing stop words and punctuations\n",
        "    mytokens = [word for word in mytokens if word not in stop_words and word not in punctuations]\n",
        "\n",
        "    # Return preprocessed list of tokens\n",
        "    return mytokens"
      ],
      "metadata": {
        "id": "MS_XeyM82bre"
      },
      "execution_count": 45,
      "outputs": []
    },
    {
      "cell_type": "code",
      "source": [
        "df['data'] = df['Text data'].apply(spacy_tokenizer)"
      ],
      "metadata": {
        "id": "izk9TIId6JF5"
      },
      "execution_count": 46,
      "outputs": []
    },
    {
      "cell_type": "code",
      "source": [
        "df['vec'] = df['data'].apply(lambda x: np.mean([wv[token] for token in x if token in wv] or [np.zeros(wv.vector_size)], axis=0))"
      ],
      "metadata": {
        "id": "WA1CKeGj6Rce"
      },
      "execution_count": 47,
      "outputs": []
    },
    {
      "cell_type": "code",
      "source": [
        "X = np.vstack(df['vec'])  # Convert list of arrays to a matrix\n",
        "y = df['Label']"
      ],
      "metadata": {
        "id": "7hkErCG16SwS"
      },
      "execution_count": 48,
      "outputs": []
    },
    {
      "cell_type": "code",
      "source": [
        "\n",
        "# Initialize SVM classifiers\n",
        "svm_tfidf = SVC(kernel='linear', random_state=42)\n",
        "svm_count = SVC(kernel='linear', random_state=42)\n",
        "svm_w2v = SVC(kernel='linear', random_state=42)\n",
        "svm_glove = SVC(kernel='linear', random_state=42)\n",
        "\n",
        "# Fit SVM classifiers\n",
        "svm_tfidf.fit(X_train_tfidf, y_train)\n",
        "svm_count.fit(X_train_count, y_train)\n",
        "svm_w2v.fit(X_train_w2v, y_train)\n",
        "svm_glove.fit(X_train_glove, y_train)\n"
      ],
      "metadata": {
        "colab": {
          "base_uri": "https://localhost:8080/",
          "height": 74
        },
        "id": "HK4Dhard0Ad-",
        "outputId": "ff8a4390-5803-4bd5-ae46-99f1da4cc99b"
      },
      "execution_count": 49,
      "outputs": [
        {
          "output_type": "execute_result",
          "data": {
            "text/plain": [
              "SVC(kernel='linear', random_state=42)"
            ],
            "text/html": [
              "<style>#sk-container-id-2 {color: black;background-color: white;}#sk-container-id-2 pre{padding: 0;}#sk-container-id-2 div.sk-toggleable {background-color: white;}#sk-container-id-2 label.sk-toggleable__label {cursor: pointer;display: block;width: 100%;margin-bottom: 0;padding: 0.3em;box-sizing: border-box;text-align: center;}#sk-container-id-2 label.sk-toggleable__label-arrow:before {content: \"▸\";float: left;margin-right: 0.25em;color: #696969;}#sk-container-id-2 label.sk-toggleable__label-arrow:hover:before {color: black;}#sk-container-id-2 div.sk-estimator:hover label.sk-toggleable__label-arrow:before {color: black;}#sk-container-id-2 div.sk-toggleable__content {max-height: 0;max-width: 0;overflow: hidden;text-align: left;background-color: #f0f8ff;}#sk-container-id-2 div.sk-toggleable__content pre {margin: 0.2em;color: black;border-radius: 0.25em;background-color: #f0f8ff;}#sk-container-id-2 input.sk-toggleable__control:checked~div.sk-toggleable__content {max-height: 200px;max-width: 100%;overflow: auto;}#sk-container-id-2 input.sk-toggleable__control:checked~label.sk-toggleable__label-arrow:before {content: \"▾\";}#sk-container-id-2 div.sk-estimator input.sk-toggleable__control:checked~label.sk-toggleable__label {background-color: #d4ebff;}#sk-container-id-2 div.sk-label input.sk-toggleable__control:checked~label.sk-toggleable__label {background-color: #d4ebff;}#sk-container-id-2 input.sk-hidden--visually {border: 0;clip: rect(1px 1px 1px 1px);clip: rect(1px, 1px, 1px, 1px);height: 1px;margin: -1px;overflow: hidden;padding: 0;position: absolute;width: 1px;}#sk-container-id-2 div.sk-estimator {font-family: monospace;background-color: #f0f8ff;border: 1px dotted black;border-radius: 0.25em;box-sizing: border-box;margin-bottom: 0.5em;}#sk-container-id-2 div.sk-estimator:hover {background-color: #d4ebff;}#sk-container-id-2 div.sk-parallel-item::after {content: \"\";width: 100%;border-bottom: 1px solid gray;flex-grow: 1;}#sk-container-id-2 div.sk-label:hover label.sk-toggleable__label {background-color: #d4ebff;}#sk-container-id-2 div.sk-serial::before {content: \"\";position: absolute;border-left: 1px solid gray;box-sizing: border-box;top: 0;bottom: 0;left: 50%;z-index: 0;}#sk-container-id-2 div.sk-serial {display: flex;flex-direction: column;align-items: center;background-color: white;padding-right: 0.2em;padding-left: 0.2em;position: relative;}#sk-container-id-2 div.sk-item {position: relative;z-index: 1;}#sk-container-id-2 div.sk-parallel {display: flex;align-items: stretch;justify-content: center;background-color: white;position: relative;}#sk-container-id-2 div.sk-item::before, #sk-container-id-2 div.sk-parallel-item::before {content: \"\";position: absolute;border-left: 1px solid gray;box-sizing: border-box;top: 0;bottom: 0;left: 50%;z-index: -1;}#sk-container-id-2 div.sk-parallel-item {display: flex;flex-direction: column;z-index: 1;position: relative;background-color: white;}#sk-container-id-2 div.sk-parallel-item:first-child::after {align-self: flex-end;width: 50%;}#sk-container-id-2 div.sk-parallel-item:last-child::after {align-self: flex-start;width: 50%;}#sk-container-id-2 div.sk-parallel-item:only-child::after {width: 0;}#sk-container-id-2 div.sk-dashed-wrapped {border: 1px dashed gray;margin: 0 0.4em 0.5em 0.4em;box-sizing: border-box;padding-bottom: 0.4em;background-color: white;}#sk-container-id-2 div.sk-label label {font-family: monospace;font-weight: bold;display: inline-block;line-height: 1.2em;}#sk-container-id-2 div.sk-label-container {text-align: center;}#sk-container-id-2 div.sk-container {/* jupyter's `normalize.less` sets `[hidden] { display: none; }` but bootstrap.min.css set `[hidden] { display: none !important; }` so we also need the `!important` here to be able to override the default hidden behavior on the sphinx rendered scikit-learn.org. See: https://github.com/scikit-learn/scikit-learn/issues/21755 */display: inline-block !important;position: relative;}#sk-container-id-2 div.sk-text-repr-fallback {display: none;}</style><div id=\"sk-container-id-2\" class=\"sk-top-container\"><div class=\"sk-text-repr-fallback\"><pre>SVC(kernel=&#x27;linear&#x27;, random_state=42)</pre><b>In a Jupyter environment, please rerun this cell to show the HTML representation or trust the notebook. <br />On GitHub, the HTML representation is unable to render, please try loading this page with nbviewer.org.</b></div><div class=\"sk-container\" hidden><div class=\"sk-item\"><div class=\"sk-estimator sk-toggleable\"><input class=\"sk-toggleable__control sk-hidden--visually\" id=\"sk-estimator-id-2\" type=\"checkbox\" checked><label for=\"sk-estimator-id-2\" class=\"sk-toggleable__label sk-toggleable__label-arrow\">SVC</label><div class=\"sk-toggleable__content\"><pre>SVC(kernel=&#x27;linear&#x27;, random_state=42)</pre></div></div></div></div></div>"
            ]
          },
          "metadata": {},
          "execution_count": 49
        }
      ]
    },
    {
      "cell_type": "code",
      "source": [
        "from sklearn.metrics import accuracy_score, classification_report\n",
        "\n",
        "# Make predictions\n",
        "y_pred_tfidf = svm_tfidf.predict(X_test_tfidf)\n",
        "y_pred_count = svm_count.predict(X_test_count)\n",
        "y_pred_w2v = svm_w2v.predict(X_test_w2v)\n",
        "y_pred_glove = svm_glove.predict(X_test_glove)\n",
        "\n",
        "# Evaluate accuracy\n",
        "accuracy_tfidf = accuracy_score(y_test, y_pred_tfidf)\n",
        "accuracy_count = accuracy_score(y_test, y_pred_count)\n",
        "accuracy_w2v = accuracy_score(y_test, y_pred_w2v)\n",
        "accuracy_glove = accuracy_score(y_test, y_pred_glove)\n",
        "\n",
        "# Generate classification reports\n",
        "report_tfidf = classification_report(y_test, y_pred_tfidf)\n",
        "report_count = classification_report(y_test, y_pred_count)\n",
        "report_w2v = classification_report(y_test, y_pred_w2v)\n",
        "report_glove = classification_report(y_test, y_pred_glove)\n",
        "\n",
        "# Print results\n",
        "print(f'TF-IDF Accuracy: {accuracy_tfidf}')\n",
        "print('TF-IDF Classification Report:')\n",
        "print(report_tfidf)\n",
        "\n",
        "print(f'Count Vectorization Accuracy: {accuracy_count}')\n",
        "print('Count Vectorization Classification Report:')\n",
        "print(report_count)\n",
        "\n",
        "print(f'Word2Vec Accuracy: {accuracy_w2v}')\n",
        "print('Word2Vec Classification Report:')\n",
        "print(report_w2v)\n",
        "\n",
        "print(f'GloVe Accuracy: {accuracy_glove}')\n",
        "print('GloVe Classification Report:')\n",
        "print(report_glove)\n"
      ],
      "metadata": {
        "colab": {
          "base_uri": "https://localhost:8080/"
        },
        "id": "sREqEA6n0UiI",
        "outputId": "b8b2c06a-6da0-4c2e-ca0c-4bc1b98c84da"
      },
      "execution_count": 50,
      "outputs": [
        {
          "output_type": "stream",
          "name": "stdout",
          "text": [
            "TF-IDF Accuracy: 0.95874861572536\n",
            "TF-IDF Classification Report:\n",
            "              precision    recall  f1-score   support\n",
            "\n",
            "           0       0.96      0.95      0.95      1245\n",
            "           1       0.93      0.95      0.94      1196\n",
            "           2       0.99      0.98      0.98      1171\n",
            "\n",
            "    accuracy                           0.96      3612\n",
            "   macro avg       0.96      0.96      0.96      3612\n",
            "weighted avg       0.96      0.96      0.96      3612\n",
            "\n",
            "Count Vectorization Accuracy: 0.9493355481727574\n",
            "Count Vectorization Classification Report:\n",
            "              precision    recall  f1-score   support\n",
            "\n",
            "           0       0.94      0.95      0.94      1245\n",
            "           1       0.94      0.93      0.93      1196\n",
            "           2       0.97      0.97      0.97      1171\n",
            "\n",
            "    accuracy                           0.95      3612\n",
            "   macro avg       0.95      0.95      0.95      3612\n",
            "weighted avg       0.95      0.95      0.95      3612\n",
            "\n",
            "Word2Vec Accuracy: 0.3754152823920266\n",
            "Word2Vec Classification Report:\n",
            "              precision    recall  f1-score   support\n",
            "\n",
            "           0       0.69      0.06      0.11      1245\n",
            "           1       0.34      0.20      0.26      1196\n",
            "           2       0.37      0.89      0.52      1171\n",
            "\n",
            "    accuracy                           0.38      3612\n",
            "   macro avg       0.47      0.38      0.30      3612\n",
            "weighted avg       0.47      0.38      0.29      3612\n",
            "\n",
            "GloVe Accuracy: 0.7090254706533776\n",
            "GloVe Classification Report:\n",
            "              precision    recall  f1-score   support\n",
            "\n",
            "           0       0.76      0.64      0.69      1245\n",
            "           1       0.66      0.67      0.67      1196\n",
            "           2       0.71      0.82      0.76      1171\n",
            "\n",
            "    accuracy                           0.71      3612\n",
            "   macro avg       0.71      0.71      0.71      3612\n",
            "weighted avg       0.71      0.71      0.71      3612\n",
            "\n"
          ]
        }
      ]
    }
  ]
}